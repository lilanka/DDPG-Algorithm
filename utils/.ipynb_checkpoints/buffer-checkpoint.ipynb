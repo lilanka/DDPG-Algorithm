{
 "cells": [
  {
   "cell_type": "code",
   "execution_count": 30,
   "metadata": {},
   "outputs": [],
   "source": [
    "import random"
   ]
  },
  {
   "cell_type": "code",
   "execution_count": 31,
   "metadata": {},
   "outputs": [],
   "source": [
    "class Buffer:\n",
    "    def __init__(self, size):\n",
    "        self.size = size\n",
    "        self.buffer = [] \n",
    "        \n",
    "    def store(self, data):\n",
    "        \"\"\"Store data on the buffer\"\"\"\n",
    "        \n",
    "        if len(self.buffer) >= self.size:\n",
    "            self.buffer[-1] = data\n",
    "            return\n",
    "       \n",
    "        self.buffer.append(data)\n",
    "        return\n",
    "    \n",
    "    def get(self, b_size):\n",
    "        \"\"\"Get mini-batch size of data\"\"\"\n",
    "        \n",
    "        return random.sample(self.buffer, k=b_size)\n",
    "    \n",
    "    def erase(self):\n",
    "        \"\"\"Erase the buffer\"\"\"\n",
    "        self.buffer[:] = []"
   ]
  },
  {
   "cell_type": "code",
   "execution_count": null,
   "metadata": {},
   "outputs": [],
   "source": []
  }
 ],
 "metadata": {
  "kernelspec": {
   "display_name": "Python 3",
   "language": "python",
   "name": "python3"
  },
  "language_info": {
   "codemirror_mode": {
    "name": "ipython",
    "version": 3
   },
   "file_extension": ".py",
   "mimetype": "text/x-python",
   "name": "python",
   "nbconvert_exporter": "python",
   "pygments_lexer": "ipython3",
   "version": "3.8.5"
  }
 },
 "nbformat": 4,
 "nbformat_minor": 4
}
